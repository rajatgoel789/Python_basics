{
 "cells": [
  {
   "cell_type": "code",
   "execution_count": null,
   "metadata": {},
   "outputs": [],
   "source": [
    "from sklearn.neighbors import KNeighborsClassifier as Kn\n",
    "import pandas as pd\n",
    "from sklearn.metrics import accuracy_score as acc\n",
    "\n",
    "knn = Kn()\n",
    "df = pd.read_csv(\"iris.csv\")\n",
    "x = df.iloc[:, 0:4]\n",
    "y = df.iloc[:, 4]\n",
    "\n",
    "knn.fit(x, y)\n",
    "\n",
    "r1 = knn.predict([[3, 5, 4, 2]])\n",
    "\n",
    "print(r1)\n",
    "\n",
    "r2 = knn.predict(x)\n",
    "print(\"r2\", r2)\n",
    "a1 = acc(r2, y)\n",
    "print(\"a1 = \", a1)\n",
    "print(\"#2 way\")\n",
    "from sklearn.model_selection import train_test_split as tts\n",
    "\n",
    "x_train, y_train, x_test, y_test = tts(x, y)\n",
    "\n",
    "k2 = Kn()\n",
    "k2.fit(x_train, y_train)\n",
    "r3 = k2.predict(x_test)\n",
    "a2 = acc(r3, y_test)\n",
    "print(\"a2=\", a2)\n"
   ]
  },
  {
   "cell_type": "code",
   "execution_count": null,
   "metadata": {},
   "outputs": [],
   "source": []
  }
 ],
 "metadata": {
  "kernelspec": {
   "display_name": "Python 3",
   "language": "python",
   "name": "python3"
  },
  "language_info": {
   "name": ""
  }
 },
 "nbformat": 4,
 "nbformat_minor": 4
}
